{
 "cells": [
  {
   "cell_type": "code",
   "execution_count": 51,
   "id": "28cd311b-ed70-453f-9da0-094e34c8c233",
   "metadata": {},
   "outputs": [],
   "source": [
    "import pandas as pd\n",
    "import numpy as np\n",
    "from sklearn.linear_model import LinearRegression, Ridge\n",
    "from sklearn.metrics import mean_squared_error"
   ]
  },
  {
   "cell_type": "code",
   "execution_count": 24,
   "id": "36691a9b-cdef-41c4-8948-11d24cbf693d",
   "metadata": {},
   "outputs": [],
   "source": [
    "data = 'https://raw.githubusercontent.com/alexeygrigorev/datasets/master/car_fuel_efficiency.csv'"
   ]
  },
  {
   "cell_type": "code",
   "execution_count": 25,
   "id": "27a4bdd6-b071-4bd9-b6e4-81e1c3d178fd",
   "metadata": {},
   "outputs": [],
   "source": [
    "df = pd.read_csv(data)"
   ]
  },
  {
   "cell_type": "code",
   "execution_count": 26,
   "id": "858208ed-23bd-46fc-9551-e7bd7902e6d0",
   "metadata": {},
   "outputs": [],
   "source": [
    "df = df[['engine_displacement','horsepower','vehicle_weight','model_year','fuel_efficiency_mpg']]"
   ]
  },
  {
   "cell_type": "code",
   "execution_count": 27,
   "id": "ad463279-a347-4bfb-bd20-a65f1e14b8a9",
   "metadata": {},
   "outputs": [
    {
     "data": {
      "text/plain": [
       "count    9704.000000\n",
       "mean       14.985243\n",
       "std         2.556468\n",
       "min         6.200971\n",
       "25%        13.267459\n",
       "50%        15.006037\n",
       "75%        16.707965\n",
       "max        25.967222\n",
       "Name: fuel_efficiency_mpg, dtype: float64"
      ]
     },
     "execution_count": 27,
     "metadata": {},
     "output_type": "execute_result"
    }
   ],
   "source": [
    "df['fuel_efficiency_mpg'].describe()"
   ]
  },
  {
   "cell_type": "code",
   "execution_count": 28,
   "id": "bd1d3192-8f27-4d9f-8c50-c0dc57f31d0e",
   "metadata": {},
   "outputs": [
    {
     "data": {
      "text/html": [
       "<div>\n",
       "<style scoped>\n",
       "    .dataframe tbody tr th:only-of-type {\n",
       "        vertical-align: middle;\n",
       "    }\n",
       "\n",
       "    .dataframe tbody tr th {\n",
       "        vertical-align: top;\n",
       "    }\n",
       "\n",
       "    .dataframe thead th {\n",
       "        text-align: right;\n",
       "    }\n",
       "</style>\n",
       "<table border=\"1\" class=\"dataframe\">\n",
       "  <thead>\n",
       "    <tr style=\"text-align: right;\">\n",
       "      <th></th>\n",
       "      <th>engine_displacement</th>\n",
       "      <th>horsepower</th>\n",
       "      <th>vehicle_weight</th>\n",
       "      <th>model_year</th>\n",
       "      <th>fuel_efficiency_mpg</th>\n",
       "    </tr>\n",
       "  </thead>\n",
       "  <tbody>\n",
       "    <tr>\n",
       "      <th>0</th>\n",
       "      <td>170</td>\n",
       "      <td>159.0</td>\n",
       "      <td>3413.433759</td>\n",
       "      <td>2003</td>\n",
       "      <td>13.231729</td>\n",
       "    </tr>\n",
       "    <tr>\n",
       "      <th>1</th>\n",
       "      <td>130</td>\n",
       "      <td>97.0</td>\n",
       "      <td>3149.664934</td>\n",
       "      <td>2007</td>\n",
       "      <td>13.688217</td>\n",
       "    </tr>\n",
       "    <tr>\n",
       "      <th>2</th>\n",
       "      <td>170</td>\n",
       "      <td>78.0</td>\n",
       "      <td>3079.038997</td>\n",
       "      <td>2018</td>\n",
       "      <td>14.246341</td>\n",
       "    </tr>\n",
       "    <tr>\n",
       "      <th>3</th>\n",
       "      <td>220</td>\n",
       "      <td>NaN</td>\n",
       "      <td>2542.392402</td>\n",
       "      <td>2009</td>\n",
       "      <td>16.912736</td>\n",
       "    </tr>\n",
       "    <tr>\n",
       "      <th>4</th>\n",
       "      <td>210</td>\n",
       "      <td>140.0</td>\n",
       "      <td>3460.870990</td>\n",
       "      <td>2009</td>\n",
       "      <td>12.488369</td>\n",
       "    </tr>\n",
       "  </tbody>\n",
       "</table>\n",
       "</div>"
      ],
      "text/plain": [
       "   engine_displacement  horsepower  vehicle_weight  model_year  \\\n",
       "0                  170       159.0     3413.433759        2003   \n",
       "1                  130        97.0     3149.664934        2007   \n",
       "2                  170        78.0     3079.038997        2018   \n",
       "3                  220         NaN     2542.392402        2009   \n",
       "4                  210       140.0     3460.870990        2009   \n",
       "\n",
       "   fuel_efficiency_mpg  \n",
       "0            13.231729  \n",
       "1            13.688217  \n",
       "2            14.246341  \n",
       "3            16.912736  \n",
       "4            12.488369  "
      ]
     },
     "execution_count": 28,
     "metadata": {},
     "output_type": "execute_result"
    }
   ],
   "source": [
    "df.head()"
   ]
  },
  {
   "cell_type": "code",
   "execution_count": 29,
   "id": "59ce16d3-e3df-4692-b5cf-c2eda5d5096f",
   "metadata": {},
   "outputs": [
    {
     "data": {
      "text/plain": [
       "engine_displacement      0\n",
       "horsepower             708\n",
       "vehicle_weight           0\n",
       "model_year               0\n",
       "fuel_efficiency_mpg      0\n",
       "dtype: int64"
      ]
     },
     "execution_count": 29,
     "metadata": {},
     "output_type": "execute_result"
    }
   ],
   "source": [
    "df.isnull().sum()"
   ]
  },
  {
   "cell_type": "code",
   "execution_count": 30,
   "id": "b44ac5de-e1a2-4e6f-8a93-95ed386b89e5",
   "metadata": {},
   "outputs": [
    {
     "data": {
      "text/plain": [
       "np.float64(149.0)"
      ]
     },
     "execution_count": 30,
     "metadata": {},
     "output_type": "execute_result"
    }
   ],
   "source": [
    "df['horsepower'].median()"
   ]
  },
  {
   "cell_type": "code",
   "execution_count": 31,
   "id": "275a3ab4-6529-4b57-a678-41447cb1e629",
   "metadata": {},
   "outputs": [
    {
     "name": "stderr",
     "output_type": "stream",
     "text": [
      "/tmp/ipykernel_3022/2256532843.py:1: FutureWarning: A value is trying to be set on a copy of a DataFrame or Series through chained assignment using an inplace method.\n",
      "The behavior will change in pandas 3.0. This inplace method will never work because the intermediate object on which we are setting values always behaves as a copy.\n",
      "\n",
      "For example, when doing 'df[col].method(value, inplace=True)', try using 'df.method({col: value}, inplace=True)' or df[col] = df[col].method(value) instead, to perform the operation inplace on the original object.\n",
      "\n",
      "\n",
      "  df['horsepower'].fillna(df['horsepower'].mean(), inplace=True)\n"
     ]
    }
   ],
   "source": [
    "df['horsepower'].fillna(df['horsepower'].mean(), inplace=True)\n"
   ]
  },
  {
   "cell_type": "markdown",
   "id": "22af9e70-429a-409d-aea4-32304386ab83",
   "metadata": {},
   "source": [
    "## Prepare and split the dataset"
   ]
  },
  {
   "cell_type": "code",
   "execution_count": 32,
   "id": "ad7f9fe4-d4c9-4b7c-83e4-939603f1af51",
   "metadata": {},
   "outputs": [],
   "source": [
    "n = len(df)\n",
    "\n",
    "n_val = int(n * 0.2)\n",
    "n_test = int(n * 0.2)\n",
    "n_train = n - n_val - n_test"
   ]
  },
  {
   "cell_type": "code",
   "execution_count": 33,
   "id": "31703c6a-36b5-4fc3-9bbf-4cf2fe6cd80a",
   "metadata": {},
   "outputs": [
    {
     "data": {
      "text/plain": [
       "9704"
      ]
     },
     "execution_count": 33,
     "metadata": {},
     "output_type": "execute_result"
    }
   ],
   "source": [
    "n"
   ]
  },
  {
   "cell_type": "code",
   "execution_count": 34,
   "id": "ce2683c3-be67-4137-bff3-2b8911f4bb61",
   "metadata": {},
   "outputs": [
    {
     "data": {
      "text/plain": [
       "(1940, 1940, 5824)"
      ]
     },
     "execution_count": 34,
     "metadata": {},
     "output_type": "execute_result"
    }
   ],
   "source": [
    "n_val, n_test, n_train"
   ]
  },
  {
   "cell_type": "code",
   "execution_count": 35,
   "id": "af249286-1017-43b4-887b-c6641a25700d",
   "metadata": {},
   "outputs": [],
   "source": [
    "df_train = df.iloc[:n_train]\n",
    "df_val = df.iloc[n_train:n_train+n_val]\n",
    "df_test = df.iloc[n_train+n_val:]"
   ]
  },
  {
   "cell_type": "code",
   "execution_count": 36,
   "id": "e7dffd5a-995a-4959-a28e-337d9faa6b07",
   "metadata": {},
   "outputs": [],
   "source": [
    "idx = np.arange(n)"
   ]
  },
  {
   "cell_type": "code",
   "execution_count": 37,
   "id": "c223f428-2e61-4b97-ab1a-dba9f082f5b7",
   "metadata": {},
   "outputs": [],
   "source": [
    "np.random.seed(2)\n",
    "np.random.shuffle(idx)"
   ]
  },
  {
   "cell_type": "code",
   "execution_count": 38,
   "id": "9e4d154c-e64f-4f06-b76f-9a5b1039da76",
   "metadata": {},
   "outputs": [],
   "source": [
    "df_train = df.iloc[idx[:n_train]]\n",
    "df_val = df.iloc[idx[n_train:n_train+n_val]]\n",
    "df_test = df.iloc[idx[n_train+n_val:]]"
   ]
  },
  {
   "cell_type": "code",
   "execution_count": 39,
   "id": "e3d48f1c-eb61-4845-8e12-9aeaa0694ca7",
   "metadata": {},
   "outputs": [
    {
     "data": {
      "text/html": [
       "<div>\n",
       "<style scoped>\n",
       "    .dataframe tbody tr th:only-of-type {\n",
       "        vertical-align: middle;\n",
       "    }\n",
       "\n",
       "    .dataframe tbody tr th {\n",
       "        vertical-align: top;\n",
       "    }\n",
       "\n",
       "    .dataframe thead th {\n",
       "        text-align: right;\n",
       "    }\n",
       "</style>\n",
       "<table border=\"1\" class=\"dataframe\">\n",
       "  <thead>\n",
       "    <tr style=\"text-align: right;\">\n",
       "      <th></th>\n",
       "      <th>engine_displacement</th>\n",
       "      <th>horsepower</th>\n",
       "      <th>vehicle_weight</th>\n",
       "      <th>model_year</th>\n",
       "      <th>fuel_efficiency_mpg</th>\n",
       "    </tr>\n",
       "  </thead>\n",
       "  <tbody>\n",
       "    <tr>\n",
       "      <th>246</th>\n",
       "      <td>170</td>\n",
       "      <td>164.000000</td>\n",
       "      <td>2990.040917</td>\n",
       "      <td>2019</td>\n",
       "      <td>15.963019</td>\n",
       "    </tr>\n",
       "    <tr>\n",
       "      <th>8125</th>\n",
       "      <td>170</td>\n",
       "      <td>149.657292</td>\n",
       "      <td>2729.623741</td>\n",
       "      <td>2012</td>\n",
       "      <td>15.931964</td>\n",
       "    </tr>\n",
       "    <tr>\n",
       "      <th>1927</th>\n",
       "      <td>200</td>\n",
       "      <td>142.000000</td>\n",
       "      <td>3126.513375</td>\n",
       "      <td>2019</td>\n",
       "      <td>14.284901</td>\n",
       "    </tr>\n",
       "    <tr>\n",
       "      <th>8235</th>\n",
       "      <td>200</td>\n",
       "      <td>148.000000</td>\n",
       "      <td>3136.477901</td>\n",
       "      <td>2003</td>\n",
       "      <td>14.865210</td>\n",
       "    </tr>\n",
       "    <tr>\n",
       "      <th>424</th>\n",
       "      <td>230</td>\n",
       "      <td>141.000000</td>\n",
       "      <td>3384.681613</td>\n",
       "      <td>2006</td>\n",
       "      <td>12.428822</td>\n",
       "    </tr>\n",
       "  </tbody>\n",
       "</table>\n",
       "</div>"
      ],
      "text/plain": [
       "      engine_displacement  horsepower  vehicle_weight  model_year  \\\n",
       "246                   170  164.000000     2990.040917        2019   \n",
       "8125                  170  149.657292     2729.623741        2012   \n",
       "1927                  200  142.000000     3126.513375        2019   \n",
       "8235                  200  148.000000     3136.477901        2003   \n",
       "424                   230  141.000000     3384.681613        2006   \n",
       "\n",
       "      fuel_efficiency_mpg  \n",
       "246             15.963019  \n",
       "8125            15.931964  \n",
       "1927            14.284901  \n",
       "8235            14.865210  \n",
       "424             12.428822  "
      ]
     },
     "execution_count": 39,
     "metadata": {},
     "output_type": "execute_result"
    }
   ],
   "source": [
    "df_train.head()"
   ]
  },
  {
   "cell_type": "code",
   "execution_count": 40,
   "id": "54f65579-1c6b-418c-b5aa-c53f8552c963",
   "metadata": {},
   "outputs": [
    {
     "data": {
      "text/plain": [
       "(5824, 1940, 1940)"
      ]
     },
     "execution_count": 40,
     "metadata": {},
     "output_type": "execute_result"
    }
   ],
   "source": [
    "len(df_train), len(df_val), len(df_test)"
   ]
  },
  {
   "cell_type": "code",
   "execution_count": 41,
   "id": "d1a08eae-0d58-4c35-ad7c-0539ce87e939",
   "metadata": {},
   "outputs": [],
   "source": [
    "df_train = df_train.reset_index(drop=True)\n",
    "df_val = df_val.reset_index(drop=True)\n",
    "df_test = df_test.reset_index(drop=True)"
   ]
  },
  {
   "cell_type": "code",
   "execution_count": 42,
   "id": "761a877c-745b-435b-9551-a70e40e580dd",
   "metadata": {},
   "outputs": [
    {
     "data": {
      "text/html": [
       "<div>\n",
       "<style scoped>\n",
       "    .dataframe tbody tr th:only-of-type {\n",
       "        vertical-align: middle;\n",
       "    }\n",
       "\n",
       "    .dataframe tbody tr th {\n",
       "        vertical-align: top;\n",
       "    }\n",
       "\n",
       "    .dataframe thead th {\n",
       "        text-align: right;\n",
       "    }\n",
       "</style>\n",
       "<table border=\"1\" class=\"dataframe\">\n",
       "  <thead>\n",
       "    <tr style=\"text-align: right;\">\n",
       "      <th></th>\n",
       "      <th>engine_displacement</th>\n",
       "      <th>horsepower</th>\n",
       "      <th>vehicle_weight</th>\n",
       "      <th>model_year</th>\n",
       "      <th>fuel_efficiency_mpg</th>\n",
       "    </tr>\n",
       "  </thead>\n",
       "  <tbody>\n",
       "    <tr>\n",
       "      <th>0</th>\n",
       "      <td>170</td>\n",
       "      <td>164.000000</td>\n",
       "      <td>2990.040917</td>\n",
       "      <td>2019</td>\n",
       "      <td>15.963019</td>\n",
       "    </tr>\n",
       "    <tr>\n",
       "      <th>1</th>\n",
       "      <td>170</td>\n",
       "      <td>149.657292</td>\n",
       "      <td>2729.623741</td>\n",
       "      <td>2012</td>\n",
       "      <td>15.931964</td>\n",
       "    </tr>\n",
       "    <tr>\n",
       "      <th>2</th>\n",
       "      <td>200</td>\n",
       "      <td>142.000000</td>\n",
       "      <td>3126.513375</td>\n",
       "      <td>2019</td>\n",
       "      <td>14.284901</td>\n",
       "    </tr>\n",
       "    <tr>\n",
       "      <th>3</th>\n",
       "      <td>200</td>\n",
       "      <td>148.000000</td>\n",
       "      <td>3136.477901</td>\n",
       "      <td>2003</td>\n",
       "      <td>14.865210</td>\n",
       "    </tr>\n",
       "    <tr>\n",
       "      <th>4</th>\n",
       "      <td>230</td>\n",
       "      <td>141.000000</td>\n",
       "      <td>3384.681613</td>\n",
       "      <td>2006</td>\n",
       "      <td>12.428822</td>\n",
       "    </tr>\n",
       "  </tbody>\n",
       "</table>\n",
       "</div>"
      ],
      "text/plain": [
       "   engine_displacement  horsepower  vehicle_weight  model_year  \\\n",
       "0                  170  164.000000     2990.040917        2019   \n",
       "1                  170  149.657292     2729.623741        2012   \n",
       "2                  200  142.000000     3126.513375        2019   \n",
       "3                  200  148.000000     3136.477901        2003   \n",
       "4                  230  141.000000     3384.681613        2006   \n",
       "\n",
       "   fuel_efficiency_mpg  \n",
       "0            15.963019  \n",
       "1            15.931964  \n",
       "2            14.284901  \n",
       "3            14.865210  \n",
       "4            12.428822  "
      ]
     },
     "execution_count": 42,
     "metadata": {},
     "output_type": "execute_result"
    }
   ],
   "source": [
    "df_train.head()"
   ]
  },
  {
   "cell_type": "code",
   "execution_count": 43,
   "id": "4a901a54-0691-4d2b-afa1-d23ed8d496fa",
   "metadata": {},
   "outputs": [],
   "source": [
    "y_train = np.log1p(df_train.fuel_efficiency_mpg.values)\n",
    "y_val = np.log1p(df_val.fuel_efficiency_mpg.values)\n",
    "y_test = np.log1p(df_test.fuel_efficiency_mpg.values)"
   ]
  },
  {
   "cell_type": "code",
   "execution_count": 44,
   "id": "b83bf83f-1993-4b7e-b51f-9ef2f3d0ffdc",
   "metadata": {},
   "outputs": [],
   "source": [
    "del df_train['fuel_efficiency_mpg']\n",
    "del df_val['fuel_efficiency_mpg']\n",
    "del df_test['fuel_efficiency_mpg']"
   ]
  },
  {
   "cell_type": "code",
   "execution_count": 45,
   "id": "afa42e28-8325-4ab5-88e6-81b6fa8d688b",
   "metadata": {},
   "outputs": [],
   "source": [
    "X_train = df_train\n",
    "X_val = df_val\n",
    "X_test = df_test"
   ]
  },
  {
   "cell_type": "code",
   "execution_count": 46,
   "id": "7fc7964b-4f4d-49ea-a164-e56f9ce5c307",
   "metadata": {},
   "outputs": [
    {
     "data": {
      "text/plain": [
       "5824"
      ]
     },
     "execution_count": 46,
     "metadata": {},
     "output_type": "execute_result"
    }
   ],
   "source": [
    "len(y_train)"
   ]
  },
  {
   "cell_type": "markdown",
   "id": "d47339a9-e457-4444-a234-5950f84abeae",
   "metadata": {},
   "source": [
    "## Linear regression"
   ]
  },
  {
   "cell_type": "code",
   "execution_count": 54,
   "id": "c350a842-dd26-4fbf-be82-cba82e6200f9",
   "metadata": {},
   "outputs": [
    {
     "name": "stdout",
     "output_type": "stream",
     "text": [
      "Q3: Imputation strategy comparison (0 vs mean)\n",
      "RMSE (fill 0):    0.0\n",
      "RMSE (fill mean): 0.0\n",
      "Q3 answer: Both are equally good\n",
      "Q4: Ridge regularization sweep\n",
      "r=0    : RMSE=0.0\n",
      "r=0.01 : RMSE=0.0\n",
      "r=0.1  : RMSE=0.0\n",
      "r=1    : RMSE=0.0\n",
      "r=5    : RMSE=0.0\n",
      "r=10   : RMSE=0.0\n",
      "r=100  : RMSE=0.0\n"
     ]
    },
    {
     "ename": "NameError",
     "evalue": "name 'closest_option' is not defined",
     "output_type": "error",
     "traceback": [
      "\u001b[31m---------------------------------------------------------------------------\u001b[39m",
      "\u001b[31mNameError\u001b[39m                                 Traceback (most recent call last)",
      "\u001b[36mCell\u001b[39m\u001b[36m \u001b[39m\u001b[32mIn[54]\u001b[39m\u001b[32m, line 72\u001b[39m\n\u001b[32m     70\u001b[39m \u001b[38;5;66;03m# map to closest option set for the quiz\u001b[39;00m\n\u001b[32m     71\u001b[39m allowed_opts_q4 = np.array([\u001b[32m0\u001b[39m, \u001b[32m0.01\u001b[39m, \u001b[32m1\u001b[39m, \u001b[32m10\u001b[39m, \u001b[32m100\u001b[39m], dtype=\u001b[38;5;28mfloat\u001b[39m)\n\u001b[32m---> \u001b[39m\u001b[32m72\u001b[39m q4_choice = \u001b[38;5;28mfloat\u001b[39m(\u001b[43mclosest_option\u001b[49m(best_r_true, allowed_opts_q4))\n\u001b[32m     73\u001b[39m \u001b[38;5;28mprint\u001b[39m(\u001b[33mf\u001b[39m\u001b[33m\"\u001b[39m\u001b[33mBest r (actual): \u001b[39m\u001b[38;5;132;01m{\u001b[39;00mbest_r_true\u001b[38;5;132;01m}\u001b[39;00m\u001b[33m  -> Q4 choice (closest allowed): \u001b[39m\u001b[38;5;132;01m{\u001b[39;00mq4_choice\u001b[38;5;132;01m}\u001b[39;00m\u001b[33m\"\u001b[39m)\n\u001b[32m     75\u001b[39m \u001b[38;5;66;03m# --------------------\u001b[39;00m\n\u001b[32m     76\u001b[39m \u001b[38;5;66;03m# Q5: Stability across seeds 0..9\u001b[39;00m\n\u001b[32m     77\u001b[39m \u001b[38;5;66;03m#     Split 60/20/20, fill NAs with 0, LinearRegression, get RMSE on validation, std of scores\u001b[39;00m\n\u001b[32m     78\u001b[39m \u001b[38;5;66;03m# --------------------\u001b[39;00m\n",
      "\u001b[31mNameError\u001b[39m: name 'closest_option' is not defined"
     ]
    }
   ],
   "source": [
    "def rmse(y_true, y_pred):\n",
    "    return mean_squared_error(y_true, y_pred)\n",
    "\n",
    "\n",
    "# --------------------\n",
    "# Q3: Impute with 0 vs with mean (train mean only), LinearRegression (no regularization)\n",
    "# --------------------\n",
    "print(\"Q3: Imputation strategy comparison (0 vs mean)\")\n",
    "\n",
    "# a) with 0\n",
    "X_train_0 = X_train.copy()\n",
    "X_val_0   = X_val.copy()\n",
    "for c in X_train_0.columns:\n",
    "    X_train_0[c] = X_train_0[c].fillna(0)\n",
    "    X_val_0[c]   = X_val_0[c].fillna(0)\n",
    "\n",
    "lr0 = LinearRegression()\n",
    "lr0.fit(X_train_0, y_train)\n",
    "rmse_0 = rmse(y_val, lr0.predict(X_val_0))\n",
    "\n",
    "# b) with mean (train only)\n",
    "X_train_m = X_train.copy()\n",
    "X_val_m   = X_val.copy()\n",
    "means = X_train_m.mean(numeric_only=True)\n",
    "for c in X_train_m.columns:\n",
    "    X_train_m[c] = X_train_m[c].fillna(means[c])\n",
    "    X_val_m[c]   = X_val_m[c].fillna(means[c])\n",
    "\n",
    "lr_mean = LinearRegression()\n",
    "lr_mean.fit(X_train_m, y_train)\n",
    "rmse_mean = rmse(y_val, lr_mean.predict(X_val_m))\n",
    "\n",
    "print(f\"RMSE (fill 0):    {round(rmse_0, 2)}\")\n",
    "print(f\"RMSE (fill mean): {round(rmse_mean, 2)}\")\n",
    "\n",
    "if abs(rmse_0 - rmse_mean) < 1e-9:\n",
    "    q3_answer = \"Both are equally good\"\n",
    "else:\n",
    "    q3_answer = \"With 0\" if rmse_0 < rmse_mean else \"With mean\"\n",
    "print(\"Q3 answer:\", q3_answer)\n",
    "\n",
    "# --------------------\n",
    "# Q4: Regularized linear regression (Ridge) with NAs filled with 0\n",
    "#     try r in [0, 0.01, 0.1, 1, 5, 10, 100]\n",
    "#     choose the best on validation; if ties, smallest r\n",
    "#     Then map to the closest among the allowed options: [0, 0.01, 1, 10, 100]\n",
    "# --------------------\n",
    "print(\"Q4: Ridge regularization sweep\")\n",
    "\n",
    "# prepare zero-imputed copies (reuse from above to keep logic clear)\n",
    "X_train_r = X_train.copy().fillna(0)\n",
    "X_val_r   = X_val.copy().fillna(0)\n",
    "\n",
    "r_list = [0, 0.01, 0.1, 1, 5, 10, 100]\n",
    "rmse_by_r = {}\n",
    "for r in r_list:\n",
    "    if r == 0:\n",
    "        model = LinearRegression()\n",
    "    else:\n",
    "        model = Ridge(alpha=r, random_state=42)\n",
    "    model.fit(X_train_r, y_train)\n",
    "    y_pred = model.predict(X_val_r)\n",
    "    rm = rmse(y_val, y_pred)\n",
    "    rmse_by_r[r] = rm\n",
    "    print(f\"r={r:<5}: RMSE={round(rm, 2)}\")\n",
    "\n",
    "# pick best r (true best)\n",
    "best_r_true = sorted(rmse_by_r.items(), key=lambda kv: (kv[1], kv[0]))[0][0]\n",
    "\n",
    "# map to closest option set for the quiz\n",
    "allowed_opts_q4 = np.array([0, 0.01, 1, 10, 100], dtype=float)\n",
    "q4_choice = float(closest_option(best_r_true, allowed_opts_q4))\n",
    "print(f\"Best r (actual): {best_r_true}  -> Q4 choice (closest allowed): {q4_choice}\")\n",
    "\n",
    "# --------------------\n",
    "# Q5: Stability across seeds 0..9\n",
    "#     Split 60/20/20, fill NAs with 0, LinearRegression, get RMSE on validation, std of scores\n",
    "# --------------------\n",
    "print(\"Q5: Seed sensitivity (std of validation RMSE)\")\n",
    "\n",
    "seeds = list(range(10))\n",
    "scores = []\n",
    "for s in seeds:\n",
    "    d = shuffle_df(df, seed=s)\n",
    "    tr, va, te = split_60_20_20(d)\n",
    "    Xtr = tr[FEATURES].fillna(0)\n",
    "    ytr = tr[TARGET].values\n",
    "    Xva = va[FEATURES].fillna(0)\n",
    "    yva = va[TARGET].values\n",
    "\n",
    "    m = LinearRegression()\n",
    "    m.fit(Xtr, ytr)\n",
    "    pred = m.predict(Xva)\n",
    "    scores.append(rmse(yva, pred))\n",
    "\n",
    "scores = np.array(scores, dtype=float)\n",
    "std_scores = float(np.std(scores))\n",
    "print(\"Validation RMSE per seed:\", [round(s, 3) for s in scores])\n",
    "print(\"STD of RMSE over seeds:\", round(std_scores, 3))\n",
    "\n",
    "# map to closest option\n",
    "q5_choice = float(closest_option(std_scores, np.array([0.001, 0.006, 0.060, 0.600], dtype=float)))\n",
    "print(\"Q5 choice (closest):\", q5_choice)\n",
    "\n",
    "# --------------------\n",
    "# Q6: Seed 9, combine train+val, fill NAs with 0, train Ridge r=0.001, RMSE on test\n",
    "# --------------------\n",
    "print(\"Q6: Final model and test RMSE (seed=9, r=0.001, fill 0)\")\n",
    "\n",
    "seed = 9\n",
    "d = shuffle_df(df, seed=seed)\n",
    "tr, va, te = split_60_20_20(d)\n",
    "tv = pd.concat([tr, va], axis=0).reset_index(drop=True)\n",
    "\n",
    "X_tv  = tv[FEATURES].fillna(0)\n",
    "y_tv  = tv[TARGET].values\n",
    "X_tst = te[FEATURES].fillna(0)\n",
    "y_tst = te[TARGET].values\n",
    "\n",
    "final = Ridge(alpha=0.001, random_state=42)\n",
    "final.fit(X_tv, y_tv)\n",
    "rmse_test = rmse(y_tst, final.predict(X_tst))\n",
    "print(\"Test RMSE:\", round(rmse_test, 3))\n",
    "\n",
    "# map to closest option\n",
    "q6_choice = float(closest_option(rmse_test, np.array([0.15, 0.515, 5.15, 51.5])))\n",
    "print(\"Q6 choice (closest):\", q6_choice)\n",
    "\n",
    "# --------------------\n",
    "# Summary\n",
    "# --------------------\n",
    "print(\"Summary / Answers\")\n",
    "print(f\"Q1: column with missing values -> {col_with_nas}\")\n",
    "# For Q2 pick closest among provided options [49, 99, 149, 199]\n",
    "q2_choice = int(closest_option(median_hp, np.array([49, 99, 149, 199], dtype=float)))\n",
    "print(f\"Q2: horsepower median -> {median_hp} (closest option: {q2_choice})\")\n",
    "print(f\"Q3: better imputation -> {q3_answer}\")\n",
    "print(f\"Q4: best regularization r -> actual best {best_r_true} (closest option: {q4_choice})\")\n",
    "print(f\"Q5: std of val RMSE across seeds -> {round(std_scores, 3)} (closest option: {q5_choice})\")\n",
    "print(f\"Q6: test RMSE (seed=9, r=0.001) -> {round(rmse_test, 3)} (closest option: {q6_choice})\")"
   ]
  },
  {
   "cell_type": "code",
   "execution_count": null,
   "id": "28b9cc41-9035-4163-b88b-b8247b725a0e",
   "metadata": {},
   "outputs": [],
   "source": []
  }
 ],
 "metadata": {
  "kernelspec": {
   "display_name": "Python 3 (ipykernel)",
   "language": "python",
   "name": "python3"
  },
  "language_info": {
   "codemirror_mode": {
    "name": "ipython",
    "version": 3
   },
   "file_extension": ".py",
   "mimetype": "text/x-python",
   "name": "python",
   "nbconvert_exporter": "python",
   "pygments_lexer": "ipython3",
   "version": "3.12.1"
  }
 },
 "nbformat": 4,
 "nbformat_minor": 5
}
