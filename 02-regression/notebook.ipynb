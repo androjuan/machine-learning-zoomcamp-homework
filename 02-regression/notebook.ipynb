{
 "cells": [
  {
   "cell_type": "code",
   "execution_count": 83,
   "id": "28cd311b-ed70-453f-9da0-094e34c8c233",
   "metadata": {},
   "outputs": [],
   "source": [
    "import pandas as pd\n",
    "import numpy as np\n",
    "from sklearn.linear_model import LinearRegression, Ridge\n",
    "from sklearn.metrics import mean_squared_error\n",
    "from math import sqrt"
   ]
  },
  {
   "cell_type": "code",
   "execution_count": 84,
   "id": "36691a9b-cdef-41c4-8948-11d24cbf693d",
   "metadata": {},
   "outputs": [],
   "source": [
    "data = 'https://raw.githubusercontent.com/alexeygrigorev/datasets/master/car_fuel_efficiency.csv'"
   ]
  },
  {
   "cell_type": "code",
   "execution_count": 85,
   "id": "27a4bdd6-b071-4bd9-b6e4-81e1c3d178fd",
   "metadata": {},
   "outputs": [],
   "source": [
    "df = pd.read_csv(data)"
   ]
  },
  {
   "cell_type": "code",
   "execution_count": 86,
   "id": "858208ed-23bd-46fc-9551-e7bd7902e6d0",
   "metadata": {},
   "outputs": [],
   "source": [
    "df = df[['engine_displacement','horsepower','vehicle_weight','model_year','fuel_efficiency_mpg']]"
   ]
  },
  {
   "cell_type": "code",
   "execution_count": 87,
   "id": "ad463279-a347-4bfb-bd20-a65f1e14b8a9",
   "metadata": {},
   "outputs": [
    {
     "data": {
      "text/plain": [
       "count    9704.000000\n",
       "mean       14.985243\n",
       "std         2.556468\n",
       "min         6.200971\n",
       "25%        13.267459\n",
       "50%        15.006037\n",
       "75%        16.707965\n",
       "max        25.967222\n",
       "Name: fuel_efficiency_mpg, dtype: float64"
      ]
     },
     "execution_count": 87,
     "metadata": {},
     "output_type": "execute_result"
    }
   ],
   "source": [
    "df['fuel_efficiency_mpg'].describe()"
   ]
  },
  {
   "cell_type": "code",
   "execution_count": 88,
   "id": "bd1d3192-8f27-4d9f-8c50-c0dc57f31d0e",
   "metadata": {},
   "outputs": [
    {
     "data": {
      "text/html": [
       "<div>\n",
       "<style scoped>\n",
       "    .dataframe tbody tr th:only-of-type {\n",
       "        vertical-align: middle;\n",
       "    }\n",
       "\n",
       "    .dataframe tbody tr th {\n",
       "        vertical-align: top;\n",
       "    }\n",
       "\n",
       "    .dataframe thead th {\n",
       "        text-align: right;\n",
       "    }\n",
       "</style>\n",
       "<table border=\"1\" class=\"dataframe\">\n",
       "  <thead>\n",
       "    <tr style=\"text-align: right;\">\n",
       "      <th></th>\n",
       "      <th>engine_displacement</th>\n",
       "      <th>horsepower</th>\n",
       "      <th>vehicle_weight</th>\n",
       "      <th>model_year</th>\n",
       "      <th>fuel_efficiency_mpg</th>\n",
       "    </tr>\n",
       "  </thead>\n",
       "  <tbody>\n",
       "    <tr>\n",
       "      <th>0</th>\n",
       "      <td>170</td>\n",
       "      <td>159.0</td>\n",
       "      <td>3413.433759</td>\n",
       "      <td>2003</td>\n",
       "      <td>13.231729</td>\n",
       "    </tr>\n",
       "    <tr>\n",
       "      <th>1</th>\n",
       "      <td>130</td>\n",
       "      <td>97.0</td>\n",
       "      <td>3149.664934</td>\n",
       "      <td>2007</td>\n",
       "      <td>13.688217</td>\n",
       "    </tr>\n",
       "    <tr>\n",
       "      <th>2</th>\n",
       "      <td>170</td>\n",
       "      <td>78.0</td>\n",
       "      <td>3079.038997</td>\n",
       "      <td>2018</td>\n",
       "      <td>14.246341</td>\n",
       "    </tr>\n",
       "    <tr>\n",
       "      <th>3</th>\n",
       "      <td>220</td>\n",
       "      <td>NaN</td>\n",
       "      <td>2542.392402</td>\n",
       "      <td>2009</td>\n",
       "      <td>16.912736</td>\n",
       "    </tr>\n",
       "    <tr>\n",
       "      <th>4</th>\n",
       "      <td>210</td>\n",
       "      <td>140.0</td>\n",
       "      <td>3460.870990</td>\n",
       "      <td>2009</td>\n",
       "      <td>12.488369</td>\n",
       "    </tr>\n",
       "  </tbody>\n",
       "</table>\n",
       "</div>"
      ],
      "text/plain": [
       "   engine_displacement  horsepower  vehicle_weight  model_year  \\\n",
       "0                  170       159.0     3413.433759        2003   \n",
       "1                  130        97.0     3149.664934        2007   \n",
       "2                  170        78.0     3079.038997        2018   \n",
       "3                  220         NaN     2542.392402        2009   \n",
       "4                  210       140.0     3460.870990        2009   \n",
       "\n",
       "   fuel_efficiency_mpg  \n",
       "0            13.231729  \n",
       "1            13.688217  \n",
       "2            14.246341  \n",
       "3            16.912736  \n",
       "4            12.488369  "
      ]
     },
     "execution_count": 88,
     "metadata": {},
     "output_type": "execute_result"
    }
   ],
   "source": [
    "df.head()"
   ]
  },
  {
   "cell_type": "code",
   "execution_count": 89,
   "id": "59ce16d3-e3df-4692-b5cf-c2eda5d5096f",
   "metadata": {},
   "outputs": [
    {
     "data": {
      "text/plain": [
       "engine_displacement      0\n",
       "horsepower             708\n",
       "vehicle_weight           0\n",
       "model_year               0\n",
       "fuel_efficiency_mpg      0\n",
       "dtype: int64"
      ]
     },
     "execution_count": 89,
     "metadata": {},
     "output_type": "execute_result"
    }
   ],
   "source": [
    "df.isnull().sum()"
   ]
  },
  {
   "cell_type": "code",
   "execution_count": 90,
   "id": "b44ac5de-e1a2-4e6f-8a93-95ed386b89e5",
   "metadata": {},
   "outputs": [
    {
     "data": {
      "text/plain": [
       "np.float64(149.0)"
      ]
     },
     "execution_count": 90,
     "metadata": {},
     "output_type": "execute_result"
    }
   ],
   "source": [
    "df['horsepower'].median()"
   ]
  },
  {
   "cell_type": "code",
   "execution_count": 91,
   "id": "275a3ab4-6529-4b57-a678-41447cb1e629",
   "metadata": {},
   "outputs": [],
   "source": [
    "# df['horsepower'].fillna(df['horsepower'].mean(), inplace=True)\n"
   ]
  },
  {
   "cell_type": "markdown",
   "id": "22af9e70-429a-409d-aea4-32304386ab83",
   "metadata": {},
   "source": [
    "## Prepare and split the dataset"
   ]
  },
  {
   "cell_type": "code",
   "execution_count": 92,
   "id": "ad7f9fe4-d4c9-4b7c-83e4-939603f1af51",
   "metadata": {},
   "outputs": [],
   "source": [
    "n = len(df)\n",
    "\n",
    "n_val = int(n * 0.2)\n",
    "n_test = int(n * 0.2)\n",
    "n_train = n - n_val - n_test"
   ]
  },
  {
   "cell_type": "code",
   "execution_count": 93,
   "id": "31703c6a-36b5-4fc3-9bbf-4cf2fe6cd80a",
   "metadata": {},
   "outputs": [
    {
     "data": {
      "text/plain": [
       "9704"
      ]
     },
     "execution_count": 93,
     "metadata": {},
     "output_type": "execute_result"
    }
   ],
   "source": [
    "n"
   ]
  },
  {
   "cell_type": "code",
   "execution_count": 94,
   "id": "ce2683c3-be67-4137-bff3-2b8911f4bb61",
   "metadata": {},
   "outputs": [
    {
     "data": {
      "text/plain": [
       "(1940, 1940, 5824)"
      ]
     },
     "execution_count": 94,
     "metadata": {},
     "output_type": "execute_result"
    }
   ],
   "source": [
    "n_val, n_test, n_train"
   ]
  },
  {
   "cell_type": "code",
   "execution_count": 95,
   "id": "af249286-1017-43b4-887b-c6641a25700d",
   "metadata": {},
   "outputs": [],
   "source": [
    "df_train = df.iloc[:n_train]\n",
    "df_val = df.iloc[n_train:n_train+n_val]\n",
    "df_test = df.iloc[n_train+n_val:]"
   ]
  },
  {
   "cell_type": "code",
   "execution_count": 96,
   "id": "e7dffd5a-995a-4959-a28e-337d9faa6b07",
   "metadata": {},
   "outputs": [],
   "source": [
    "idx = np.arange(n)"
   ]
  },
  {
   "cell_type": "code",
   "execution_count": 97,
   "id": "c223f428-2e61-4b97-ab1a-dba9f082f5b7",
   "metadata": {},
   "outputs": [],
   "source": [
    "np.random.seed(2)\n",
    "np.random.shuffle(idx)"
   ]
  },
  {
   "cell_type": "code",
   "execution_count": 98,
   "id": "9e4d154c-e64f-4f06-b76f-9a5b1039da76",
   "metadata": {},
   "outputs": [],
   "source": [
    "df_train = df.iloc[idx[:n_train]]\n",
    "df_val = df.iloc[idx[n_train:n_train+n_val]]\n",
    "df_test = df.iloc[idx[n_train+n_val:]]"
   ]
  },
  {
   "cell_type": "code",
   "execution_count": 99,
   "id": "e3d48f1c-eb61-4845-8e12-9aeaa0694ca7",
   "metadata": {},
   "outputs": [
    {
     "data": {
      "text/html": [
       "<div>\n",
       "<style scoped>\n",
       "    .dataframe tbody tr th:only-of-type {\n",
       "        vertical-align: middle;\n",
       "    }\n",
       "\n",
       "    .dataframe tbody tr th {\n",
       "        vertical-align: top;\n",
       "    }\n",
       "\n",
       "    .dataframe thead th {\n",
       "        text-align: right;\n",
       "    }\n",
       "</style>\n",
       "<table border=\"1\" class=\"dataframe\">\n",
       "  <thead>\n",
       "    <tr style=\"text-align: right;\">\n",
       "      <th></th>\n",
       "      <th>engine_displacement</th>\n",
       "      <th>horsepower</th>\n",
       "      <th>vehicle_weight</th>\n",
       "      <th>model_year</th>\n",
       "      <th>fuel_efficiency_mpg</th>\n",
       "    </tr>\n",
       "  </thead>\n",
       "  <tbody>\n",
       "    <tr>\n",
       "      <th>246</th>\n",
       "      <td>170</td>\n",
       "      <td>164.0</td>\n",
       "      <td>2990.040917</td>\n",
       "      <td>2019</td>\n",
       "      <td>15.963019</td>\n",
       "    </tr>\n",
       "    <tr>\n",
       "      <th>8125</th>\n",
       "      <td>170</td>\n",
       "      <td>NaN</td>\n",
       "      <td>2729.623741</td>\n",
       "      <td>2012</td>\n",
       "      <td>15.931964</td>\n",
       "    </tr>\n",
       "    <tr>\n",
       "      <th>1927</th>\n",
       "      <td>200</td>\n",
       "      <td>142.0</td>\n",
       "      <td>3126.513375</td>\n",
       "      <td>2019</td>\n",
       "      <td>14.284901</td>\n",
       "    </tr>\n",
       "    <tr>\n",
       "      <th>8235</th>\n",
       "      <td>200</td>\n",
       "      <td>148.0</td>\n",
       "      <td>3136.477901</td>\n",
       "      <td>2003</td>\n",
       "      <td>14.865210</td>\n",
       "    </tr>\n",
       "    <tr>\n",
       "      <th>424</th>\n",
       "      <td>230</td>\n",
       "      <td>141.0</td>\n",
       "      <td>3384.681613</td>\n",
       "      <td>2006</td>\n",
       "      <td>12.428822</td>\n",
       "    </tr>\n",
       "  </tbody>\n",
       "</table>\n",
       "</div>"
      ],
      "text/plain": [
       "      engine_displacement  horsepower  vehicle_weight  model_year  \\\n",
       "246                   170       164.0     2990.040917        2019   \n",
       "8125                  170         NaN     2729.623741        2012   \n",
       "1927                  200       142.0     3126.513375        2019   \n",
       "8235                  200       148.0     3136.477901        2003   \n",
       "424                   230       141.0     3384.681613        2006   \n",
       "\n",
       "      fuel_efficiency_mpg  \n",
       "246             15.963019  \n",
       "8125            15.931964  \n",
       "1927            14.284901  \n",
       "8235            14.865210  \n",
       "424             12.428822  "
      ]
     },
     "execution_count": 99,
     "metadata": {},
     "output_type": "execute_result"
    }
   ],
   "source": [
    "df_train.head()"
   ]
  },
  {
   "cell_type": "code",
   "execution_count": 100,
   "id": "54f65579-1c6b-418c-b5aa-c53f8552c963",
   "metadata": {},
   "outputs": [
    {
     "data": {
      "text/plain": [
       "(5824, 1940, 1940)"
      ]
     },
     "execution_count": 100,
     "metadata": {},
     "output_type": "execute_result"
    }
   ],
   "source": [
    "len(df_train), len(df_val), len(df_test)"
   ]
  },
  {
   "cell_type": "code",
   "execution_count": 101,
   "id": "d1a08eae-0d58-4c35-ad7c-0539ce87e939",
   "metadata": {},
   "outputs": [],
   "source": [
    "df_train = df_train.reset_index(drop=True)\n",
    "df_val = df_val.reset_index(drop=True)\n",
    "df_test = df_test.reset_index(drop=True)"
   ]
  },
  {
   "cell_type": "code",
   "execution_count": 102,
   "id": "761a877c-745b-435b-9551-a70e40e580dd",
   "metadata": {},
   "outputs": [
    {
     "data": {
      "text/html": [
       "<div>\n",
       "<style scoped>\n",
       "    .dataframe tbody tr th:only-of-type {\n",
       "        vertical-align: middle;\n",
       "    }\n",
       "\n",
       "    .dataframe tbody tr th {\n",
       "        vertical-align: top;\n",
       "    }\n",
       "\n",
       "    .dataframe thead th {\n",
       "        text-align: right;\n",
       "    }\n",
       "</style>\n",
       "<table border=\"1\" class=\"dataframe\">\n",
       "  <thead>\n",
       "    <tr style=\"text-align: right;\">\n",
       "      <th></th>\n",
       "      <th>engine_displacement</th>\n",
       "      <th>horsepower</th>\n",
       "      <th>vehicle_weight</th>\n",
       "      <th>model_year</th>\n",
       "      <th>fuel_efficiency_mpg</th>\n",
       "    </tr>\n",
       "  </thead>\n",
       "  <tbody>\n",
       "    <tr>\n",
       "      <th>0</th>\n",
       "      <td>170</td>\n",
       "      <td>164.0</td>\n",
       "      <td>2990.040917</td>\n",
       "      <td>2019</td>\n",
       "      <td>15.963019</td>\n",
       "    </tr>\n",
       "    <tr>\n",
       "      <th>1</th>\n",
       "      <td>170</td>\n",
       "      <td>NaN</td>\n",
       "      <td>2729.623741</td>\n",
       "      <td>2012</td>\n",
       "      <td>15.931964</td>\n",
       "    </tr>\n",
       "    <tr>\n",
       "      <th>2</th>\n",
       "      <td>200</td>\n",
       "      <td>142.0</td>\n",
       "      <td>3126.513375</td>\n",
       "      <td>2019</td>\n",
       "      <td>14.284901</td>\n",
       "    </tr>\n",
       "    <tr>\n",
       "      <th>3</th>\n",
       "      <td>200</td>\n",
       "      <td>148.0</td>\n",
       "      <td>3136.477901</td>\n",
       "      <td>2003</td>\n",
       "      <td>14.865210</td>\n",
       "    </tr>\n",
       "    <tr>\n",
       "      <th>4</th>\n",
       "      <td>230</td>\n",
       "      <td>141.0</td>\n",
       "      <td>3384.681613</td>\n",
       "      <td>2006</td>\n",
       "      <td>12.428822</td>\n",
       "    </tr>\n",
       "  </tbody>\n",
       "</table>\n",
       "</div>"
      ],
      "text/plain": [
       "   engine_displacement  horsepower  vehicle_weight  model_year  \\\n",
       "0                  170       164.0     2990.040917        2019   \n",
       "1                  170         NaN     2729.623741        2012   \n",
       "2                  200       142.0     3126.513375        2019   \n",
       "3                  200       148.0     3136.477901        2003   \n",
       "4                  230       141.0     3384.681613        2006   \n",
       "\n",
       "   fuel_efficiency_mpg  \n",
       "0            15.963019  \n",
       "1            15.931964  \n",
       "2            14.284901  \n",
       "3            14.865210  \n",
       "4            12.428822  "
      ]
     },
     "execution_count": 102,
     "metadata": {},
     "output_type": "execute_result"
    }
   ],
   "source": [
    "df_train.head()"
   ]
  },
  {
   "cell_type": "code",
   "execution_count": 103,
   "id": "4a901a54-0691-4d2b-afa1-d23ed8d496fa",
   "metadata": {},
   "outputs": [],
   "source": [
    "y_train = np.log1p(df_train.fuel_efficiency_mpg.values)\n",
    "y_val = np.log1p(df_val.fuel_efficiency_mpg.values)\n",
    "y_test = np.log1p(df_test.fuel_efficiency_mpg.values)"
   ]
  },
  {
   "cell_type": "code",
   "execution_count": 104,
   "id": "b83bf83f-1993-4b7e-b51f-9ef2f3d0ffdc",
   "metadata": {},
   "outputs": [],
   "source": [
    "del df_train['fuel_efficiency_mpg']\n",
    "del df_val['fuel_efficiency_mpg']\n",
    "del df_test['fuel_efficiency_mpg']"
   ]
  },
  {
   "cell_type": "code",
   "execution_count": 105,
   "id": "afa42e28-8325-4ab5-88e6-81b6fa8d688b",
   "metadata": {},
   "outputs": [],
   "source": [
    "X_train = df_train\n",
    "X_val = df_val\n",
    "X_test = df_test"
   ]
  },
  {
   "cell_type": "code",
   "execution_count": 106,
   "id": "7fc7964b-4f4d-49ea-a164-e56f9ce5c307",
   "metadata": {},
   "outputs": [
    {
     "data": {
      "text/plain": [
       "5824"
      ]
     },
     "execution_count": 106,
     "metadata": {},
     "output_type": "execute_result"
    }
   ],
   "source": [
    "len(y_train)"
   ]
  },
  {
   "cell_type": "markdown",
   "id": "d47339a9-e457-4444-a234-5950f84abeae",
   "metadata": {},
   "source": [
    "## Linear regression"
   ]
  },
  {
   "cell_type": "code",
   "execution_count": 110,
   "id": "c350a842-dd26-4fbf-be82-cba82e6200f9",
   "metadata": {},
   "outputs": [
    {
     "name": "stdout",
     "output_type": "stream",
     "text": [
      "Q3 RMSE (fill 0):    0.04\n",
      "Q3 RMSE (fill mean): 0.04\n",
      "Q3 -> With mean\n",
      "Q4 r=0      -> RMSE=0.04\n",
      "Q4 r=0.01   -> RMSE=0.04\n",
      "Q4 r=0.1    -> RMSE=0.04\n",
      "Q4 r=1      -> RMSE=0.04\n",
      "Q4 r=5      -> RMSE=0.04\n",
      "Q4 r=10     -> RMSE=0.04\n",
      "Q4 r=100    -> RMSE=0.04\n",
      "Q4 best r (real): 100\n",
      "Q4 choice (closest option): 100.0\n",
      "Q5 -> STD of validation RMSE: 0.007\n",
      "Q6 -> Test RMSE: 0.515\n"
     ]
    }
   ],
   "source": [
    "# =========================\n",
    "# Q3: Imputación (0 vs media-TRAIN) + LinearRegression\n",
    "# =========================\n",
    "\n",
    "# a) Imputar con 0\n",
    "X_train_0 = X_train.copy().fillna(0)\n",
    "X_val_0   = X_val.copy().fillna(0)\n",
    "lr0 = LinearRegression()\n",
    "lr0.fit(X_train_0, y_train)\n",
    "rmse_0 = sqrt(mean_squared_error(y_val, lr0.predict(X_val_0)))\n",
    "\n",
    "# b) Imputar con la media calculada SOLO en train\n",
    "X_train_m = X_train.copy()\n",
    "X_val_m   = X_val.copy()\n",
    "means = X_train_m.mean(numeric_only=True)\n",
    "X_train_m = X_train_m.fillna(means)\n",
    "X_val_m   = X_val_m.fillna(means)\n",
    "lr_mean = LinearRegression()\n",
    "lr_mean.fit(X_train_m, y_train)\n",
    "rmse_mean = sqrt(mean_squared_error(y_val, lr_mean.predict(X_val_m)))\n",
    "\n",
    "print(f\"Q3 RMSE (fill 0):    {round(rmse_0, 2)}\")\n",
    "print(f\"Q3 RMSE (fill mean): {round(rmse_mean, 2)}\")\n",
    "if abs(rmse_0 - rmse_mean) < 1e-12:\n",
    "    print(\"Q3 -> Both are equally good\")\n",
    "else:\n",
    "    print(\"Q3 ->\", \"With 0\" if rmse_0 < rmse_mean else \"With mean\")\n",
    "\n",
    "# =========================\n",
    "# Q4: Ridge con NAs=0, barrer r y elegir mejor por RMSE (val)\n",
    "# =========================\n",
    "r_list = [0, 0.01, 0.1, 1, 5, 10, 100]\n",
    "X_train_r = X_train.copy().fillna(0)\n",
    "X_val_r   = X_val.copy().fillna(0)\n",
    "\n",
    "rmse_by_r = {}\n",
    "for r in r_list:\n",
    "    model = LinearRegression() if r == 0 else Ridge(alpha=r)\n",
    "    model.fit(X_train_r, y_train)\n",
    "    pred = model.predict(X_val_r)\n",
    "    rm = sqrt(mean_squared_error(y_val, pred))\n",
    "    rmse_by_r[r] = rm\n",
    "    print(f\"Q4 r={r:<6} -> RMSE={round(rm, 2)}\")\n",
    "\n",
    "# mejor r real (si empate, el más pequeño)\n",
    "best_r = sorted(rmse_by_r.items(), key=lambda kv: (kv[1], kv[0]))[0][0]\n",
    "print(\"Q4 best r (real):\", best_r)\n",
    "\n",
    "# mapear a opciones permitidas del enunciado\n",
    "allowed_q4 = np.array([0, 0.01, 1, 10, 100], dtype=float)\n",
    "closest = allowed_q4[np.argmin(np.abs(allowed_q4 - float(best_r)))]\n",
    "print(\"Q4 choice (closest option):\", float(closest))\n",
    "\n",
    "\n",
    "features = ['engine_displacement','horsepower','vehicle_weight','model_year']\n",
    "target   = 'fuel_efficiency_mpg'\n",
    "# ======================\n",
    "# Q5: calcular std de RMSE en validación con seeds 0..9\n",
    "# ======================\n",
    "rmses = []\n",
    "\n",
    "for seed in range(10):\n",
    "    # barajar con semilla\n",
    "    df_shuffled = df.sample(frac=1, random_state=seed).reset_index(drop=True)\n",
    "    \n",
    "    # split 60/20/20\n",
    "    n = len(df_shuffled)\n",
    "    n_train = int(0.6*n)\n",
    "    n_val   = int(0.2*n)\n",
    "    \n",
    "    df_train = df_shuffled.iloc[:n_train].copy()\n",
    "    df_val   = df_shuffled.iloc[n_train:n_train+n_val].copy()\n",
    "    df_test  = df_shuffled.iloc[n_train+n_val:].copy()\n",
    "    \n",
    "    X_train, y_train = df_train[features].fillna(0), df_train[target].values\n",
    "    X_val,   y_val   = df_val[features].fillna(0),   df_val[target].values\n",
    "\n",
    "    model = LinearRegression()\n",
    "    model.fit(X_train, y_train)\n",
    "    pred = model.predict(X_val)\n",
    "    rmse = sqrt(mean_squared_error(y_val, pred))\n",
    "    rmses.append(rmse)\n",
    "\n",
    "std_rmse = np.std(rmses)\n",
    "print(\"Q5 -> STD of validation RMSE:\", round(std_rmse, 3))\n",
    "\n",
    "# ======================\n",
    "# Q6: seed=9, entrenar con train+val y evaluar en test con Ridge r=0.001\n",
    "# ======================\n",
    "seed = 9\n",
    "df_shuffled = df.sample(frac=1, random_state=seed).reset_index(drop=True)\n",
    "\n",
    "n = len(df_shuffled)\n",
    "n_train = int(0.6*n)\n",
    "n_val   = int(0.2*n)\n",
    "\n",
    "df_train = df_shuffled.iloc[:n_train].copy()\n",
    "df_val   = df_shuffled.iloc[n_train:n_train+n_val].copy()\n",
    "df_test  = df_shuffled.iloc[n_train+n_val:].copy()\n",
    "\n",
    "# combinar train+val\n",
    "df_trainval = pd.concat([df_train, df_val]).reset_index(drop=True)\n",
    "\n",
    "X_trainval, y_trainval = df_trainval[features].fillna(0), df_trainval[target].values\n",
    "X_test,     y_test     = df_test[features].fillna(0),     df_test[target].values\n",
    "\n",
    "final_model = Ridge(alpha=0.001)\n",
    "final_model.fit(X_trainval, y_trainval)\n",
    "pred_test = final_model.predict(X_test)\n",
    "rmse_test = sqrt(mean_squared_error(y_test, pred_test))\n",
    "\n",
    "print(\"Q6 -> Test RMSE:\", round(rmse_test, 3))"
   ]
  },
  {
   "cell_type": "code",
   "execution_count": null,
   "id": "28b9cc41-9035-4163-b88b-b8247b725a0e",
   "metadata": {},
   "outputs": [],
   "source": []
  }
 ],
 "metadata": {
  "kernelspec": {
   "display_name": "Python 3 (ipykernel)",
   "language": "python",
   "name": "python3"
  },
  "language_info": {
   "codemirror_mode": {
    "name": "ipython",
    "version": 3
   },
   "file_extension": ".py",
   "mimetype": "text/x-python",
   "name": "python",
   "nbconvert_exporter": "python",
   "pygments_lexer": "ipython3",
   "version": "3.12.1"
  }
 },
 "nbformat": 4,
 "nbformat_minor": 5
}
